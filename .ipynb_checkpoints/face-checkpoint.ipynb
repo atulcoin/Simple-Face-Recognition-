{
 "cells": [
  {
   "cell_type": "code",
   "execution_count": 1,
   "metadata": {},
   "outputs": [],
   "source": [
    "import cv2"
   ]
  },
  {
   "cell_type": "code",
   "execution_count": null,
   "metadata": {},
   "outputs": [],
   "source": [
    "face_dect = cv2.CascadeClassifier(\"haarcascade_frontalface_default.xml\")\n",
    "\n",
    "\n",
    "img = cv2.imread(\"pari.jpg\")\n",
    "size= cv2.resize(img, (int (img.shape[1]/4), int (img.shape[1]/4)))  # imgage size is reduced by 4 \n",
    "\n",
    "gimg = cv2.cvtColor(size,cv2.COLOR_BGR2GRAY)\n",
    "\n",
    "faces = face_dect.detectMultiScale(gimg, scaleFactor =1.05, minNeighbors=5)\n",
    "print(\"face:\",faces)\n",
    "for x,y,w,h in faces:\n",
    "    size = cv2.rectangle(size, (x,y), (x+w,y+h), (0,255,0),2)\n",
    "    \n",
    "    \n",
    "\n",
    "\n",
    "cv2.imshow(\"photo\", size)\n",
    "\n",
    "cv2.waitKey(0)\n",
    "\n",
    "cv2.destroyAllWindows()\n"
   ]
  },
  {
   "cell_type": "code",
   "execution_count": null,
   "metadata": {},
   "outputs": [],
   "source": []
  }
 ],
 "metadata": {
  "kernelspec": {
   "display_name": "Python 3",
   "language": "python",
   "name": "python3"
  },
  "language_info": {
   "codemirror_mode": {
    "name": "ipython",
    "version": 3
   },
   "file_extension": ".py",
   "mimetype": "text/x-python",
   "name": "python",
   "nbconvert_exporter": "python",
   "pygments_lexer": "ipython3",
   "version": "3.7.6"
  }
 },
 "nbformat": 4,
 "nbformat_minor": 4
}
